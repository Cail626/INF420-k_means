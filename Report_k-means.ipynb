{
 "cells": [
  {
   "cell_type": "markdown",
   "id": "c2d6e4c1",
   "metadata": {},
   "source": [
    "# Starting of the program"
   ]
  },
  {
   "cell_type": "markdown",
   "id": "21163c3e",
   "metadata": {
    "id": "21163c3e"
   },
   "source": [
    "## Imports and functions"
   ]
  },
  {
   "cell_type": "code",
   "execution_count": 22,
   "id": "2ad0b8c7",
   "metadata": {
    "ExecuteTime": {
     "end_time": "2021-12-07T17:21:13.879209Z",
     "start_time": "2021-12-07T17:21:11.427223Z"
    },
    "id": "eec8f313"
   },
   "outputs": [
    {
     "ename": "ModuleNotFoundError",
     "evalue": "No module named 'google.colab'",
     "output_type": "error",
     "traceback": [
      "\u001b[1;31m---------------------------------------------------------------------------\u001b[0m",
      "\u001b[1;31mModuleNotFoundError\u001b[0m                       Traceback (most recent call last)",
      "\u001b[1;32m<ipython-input-22-03553a1bb498>\u001b[0m in \u001b[0;36m<module>\u001b[1;34m\u001b[0m\n\u001b[0;32m     20\u001b[0m \u001b[1;32mimport\u001b[0m \u001b[0mseaborn\u001b[0m \u001b[1;32mas\u001b[0m \u001b[0msns\u001b[0m\u001b[1;33m\u001b[0m\u001b[1;33m\u001b[0m\u001b[0m\n\u001b[0;32m     21\u001b[0m \u001b[1;32mimport\u001b[0m \u001b[0mcv2\u001b[0m\u001b[1;33m\u001b[0m\u001b[1;33m\u001b[0m\u001b[0m\n\u001b[1;32m---> 22\u001b[1;33m \u001b[1;32mfrom\u001b[0m \u001b[0mgoogle\u001b[0m\u001b[1;33m.\u001b[0m\u001b[0mcolab\u001b[0m\u001b[1;33m.\u001b[0m\u001b[0mpatches\u001b[0m \u001b[1;32mimport\u001b[0m \u001b[0mcv2_imshow\u001b[0m\u001b[1;33m\u001b[0m\u001b[1;33m\u001b[0m\u001b[0m\n\u001b[0m",
      "\u001b[1;31mModuleNotFoundError\u001b[0m: No module named 'google.colab'"
     ]
    }
   ],
   "source": [
    "#Import all the librairies\n",
    "\n",
    "import numpy as np\n",
    "import matplotlib.pyplot as plt\n",
    "import matplotlib as mpl\n",
    "import pandas as pd\n",
    "import scipy.spatial\n",
    "\n",
    "from __future__ import print_function\n",
    "from ipywidgets import interact, interactive, fixed, interact_manual\n",
    "import ipywidgets as widgets\n",
    "\n",
    "import sys\n",
    "import os\n",
    "import traceback\n",
    "import optparse\n",
    "import time\n",
    "import logging\n",
    "import math as m\n",
    "import seaborn as sns\n",
    "import cv2 \n",
    "from google.colab.patches import cv2_imshow"
   ]
  },
  {
   "cell_type": "code",
   "execution_count": 14,
   "id": "eec8f313",
   "metadata": {
    "ExecuteTime": {
     "end_time": "2021-12-07T17:19:02.407081Z",
     "start_time": "2021-12-07T17:19:02.374081Z"
    },
    "id": "eec8f313"
   },
   "outputs": [],
   "source": [
    "def orientationDet(a, b, c):\n",
    "    \"\"\"\n",
    "    \n",
    "    Input:\n",
    "       a,b,c : three 2D points represented by array\n",
    "    Output:\n",
    "        float\n",
    "    return the orientation determinant of the points in the\n",
    "    order a,b,c\n",
    "    \n",
    "    \"\"\"\n",
    "    res = (b[0] - a[0]) * (c[1] - b[1]) - (c[0] - b[0]) * (b[1] - a[1])\n",
    "    return res\n",
    "\n",
    "\n",
    "def inter_colineaire(a, b, c, d):\n",
    "    \"\"\"\n",
    "    Input:\n",
    "       a,b,c,d : four 2D points represented by array\n",
    "       \n",
    "    Check when the segment [a,b] intersect the\n",
    "    segment [c,d] if the two are colinear\n",
    "\n",
    "    if all the vector between the two segments have\n",
    "    the same sign return false\"\"\"\n",
    "    dot1 = np.dot(d-a, d-b)\n",
    "    dot2 = np.dot(c-a, c-b)\n",
    "    dot3 = np.dot(a-c,a-d)\n",
    "    \n",
    "    if (dot1 == 0 or dot2 == 0 or dot3 == 0):\n",
    "        return true\n",
    "\n",
    "    if (\n",
    "    dot1 < 0 or dot2 <0 or dot3 <0\n",
    "    ):\n",
    "        return True\n",
    "    else:\n",
    "        return False\n",
    "\n",
    "def segment_segment(a, b, c, d,check_colinear) :\n",
    "    \"\"\"\n",
    "    Check if the segment [a,b] intersect the\n",
    "    segment [c,d]\n",
    "    Input:\n",
    "    \n",
    "    check_colinear: indicate if we need to check to case where the segments are\n",
    "              colinear\n",
    "\n",
    "    \"\"\"\n",
    "    if(check_colinear):\n",
    "        if (orientationDet(a, b, c) == 0 and orientationDet(a, b, d) == 0):\n",
    "            return inter_colineaire(a, b, c, d)\n",
    "        else:\n",
    "            return False\n",
    "    if (line_segment(a, b, c, d) and line_segment(c, d, a, b)):\n",
    "        return True\n",
    "    return False\n",
    "\n",
    "def line_segment(a, b, c, d):\n",
    "    \"\"\"\n",
    "    return:\n",
    "        boolean\n",
    "        \n",
    "    Check if line a,b intersect [c,d]\n",
    "    \"\"\"\n",
    "    res1 = orientationDet(a, b, c)\n",
    "    res2 = orientationDet(a, b, d)\n",
    "    if (res1 == 0 or res2 == 0):\n",
    "        return True\n",
    "    elif (np.sign(res1) != np.sign(res2)):\n",
    "        return True\n",
    "    else:\n",
    "        return False\n",
    "    \n",
    "def ray_segment(a, b, c, d,check_colinear):\n",
    "    \"\"\"\n",
    "    Check if semi-line from a with direction b\n",
    "    intersect [c,d]\n",
    "    \n",
    "    Input:\n",
    "    \n",
    "    check_colinear: indicate if we need to check to case where the segments are\n",
    "              colinear\n",
    "              \n",
    "    \"\"\"\n",
    "\n",
    "    aplusb = a+b\n",
    "    ac = c-a\n",
    "    ad = d-a\n",
    "\n",
    "    #Check if the line c,d is colinear with [a,a+b]\n",
    "    if(check_colinear):\n",
    "        if (\n",
    "        orientationDet(a, aplusb, c) == 0 and\n",
    "        orientationDet(a, aplusb, d) == 0\n",
    "        ):\n",
    "            if( (ac/aplusb)[0]>0 or (ad/aplusb)[0]>0 ):\n",
    "                return True\n",
    "            else:\n",
    "                return False\n",
    "    \n",
    "    if (line_segment(a, aplusb, c, d)):\n",
    "        #Regarde si la droite c,d touche la demi droite\n",
    "        #partant de a et de direction b\n",
    "        #On cherche à créer un large segment\n",
    "        b_unit = np.array([b[0] / np.linalg.norm(b), b[1] / np.linalg.norm(b)])\n",
    "        mult = max(np.dot(ac, b_unit), np.dot(ad, b_unit))\n",
    "        limit = a+b_unit*mult\n",
    "\n",
    "        if (mult < 0):\n",
    "            return False\n",
    "\n",
    "        #si mult = 0 il y a un point sur la perpendiculaire de b au point a.\n",
    "        if (mult == 0):\n",
    "            if (np.dot(ac, b_unit) == np.dot(ad, b_unit)):\n",
    "                return True\n",
    "            else:\n",
    "                return False\n",
    "\n",
    "        if (line_segment(c, d, a, limit)):\n",
    "            return True\n",
    "    return False"
   ]
  },
  {
   "cell_type": "code",
   "execution_count": 15,
   "id": "989f690c",
   "metadata": {
    "ExecuteTime": {
     "end_time": "2021-12-07T17:19:02.915111Z",
     "start_time": "2021-12-07T17:19:02.849100Z"
    }
   },
   "outputs": [],
   "source": [
    "def wavelength_to_rgb(wavelength, gamma=0.8):\n",
    "    '''Done by: http://www.noah.org/wiki/Wavelength_to_RGB_in_Python'''\n",
    "    '''This converts a given wavelength of light to an \n",
    "    approximate RGB color value. The wavelength must be given\n",
    "    in nanometers in the range from 380 nm through 750 nm\n",
    "    (789 THz through 400 THz).\n",
    "\n",
    "    Based on code by Dan Bruton\n",
    "    http://www.physics.sfasu.edu/astro/color/spectra.html\n",
    "    '''\n",
    "\n",
    "    wavelength = float(wavelength)\n",
    "    if wavelength >= 380 and wavelength <= 440:\n",
    "        attenuation = 0.3 + 0.7 * (wavelength - 380) / (440 - 380)\n",
    "        R = ((-(wavelength - 440) / (440 - 380)) * attenuation) ** gamma\n",
    "        G = 0.0\n",
    "        B = (1.0 * attenuation) ** gamma\n",
    "    elif wavelength >= 440 and wavelength <= 490:\n",
    "        R = 0.0\n",
    "        G = ((wavelength - 440) / (490 - 440)) ** gamma\n",
    "        B = 1.0\n",
    "    elif wavelength >= 490 and wavelength <= 510:\n",
    "        R = 0.0\n",
    "        G = 1.0\n",
    "        B = (-(wavelength - 510) / (510 - 490)) ** gamma\n",
    "    elif wavelength >= 510 and wavelength <= 580:\n",
    "        R = ((wavelength - 510) / (580 - 510)) ** gamma\n",
    "        G = 1.0\n",
    "        B = 0.0\n",
    "    elif wavelength >= 580 and wavelength <= 645:\n",
    "        R = 1.0\n",
    "        G = (-(wavelength - 645) / (645 - 580)) ** gamma\n",
    "        B = 0.0\n",
    "    elif wavelength >= 645 and wavelength <= 750:\n",
    "        attenuation = 0.3 + 0.7 * (750 - wavelength) / (750 - 645)\n",
    "        R = (1.0 * attenuation) ** gamma\n",
    "        G = 0.0\n",
    "        B = 0.0\n",
    "    else:\n",
    "        R = 0.0\n",
    "        G = 0.0\n",
    "        B = 0.0\n",
    "    return (R, G, B)\n",
    "\n",
    "class k_means_solver():\n",
    "    \"\"\"\n",
    "    Class to compute the k-means of a set of points L with given\n",
    "    initials centers M. \n",
    "    \n",
    "    The program also given an interactive interface using voronoi diagram to \n",
    "    understand how the algorithm works.\n",
    "    \"\"\"\n",
    "    def __init__(self,L,M):\n",
    "        \"\"\"\n",
    "        Input:\n",
    "        \n",
    "        L:the set of points from which we want to compute the k_means\n",
    "        M: is the initial set of means from which we construct the first clusters\n",
    "        \"\"\"\n",
    "        \n",
    "        #Deepcopy of the L and M list of list \n",
    "        self.L = np.array([L[i].copy() for i in range(0,len(L))])\n",
    "        self.M = np.array([M[i].copy() for i in range(0,len(M))])\n",
    "        self.clusters_list, self.M_list, self.M_L_list = self.k_means()\n",
    "    \n",
    "    def compute_mean(self,cluster):\n",
    "        \"\"\"\n",
    "        compute the mean position of the points inside a cluster\n",
    "        \n",
    "        Input: \n",
    "        \n",
    "        cluster: a list of weighted points of a cluster\n",
    "        \"\"\"\n",
    "        m = [0,0]\n",
    "        tot = 0\n",
    "        for p in cluster:\n",
    "            m[0] += p[0]*p[2]\n",
    "            m[1] += p[1]*p[2]\n",
    "            tot += p[2]\n",
    "\n",
    "        return [m[0]/tot,m[1]/tot]\n",
    "\n",
    "\n",
    "    def k_means(self):\n",
    "        \"\"\"\n",
    "        compute the k-means algorithm:\n",
    "        \n",
    "        return:\n",
    "\n",
    "        -clusters_list: list of the clusters at each steps\n",
    "        -M_list: list of the mean of the clusters at each steps\n",
    "        -L_M_list:list of the indice of the cluster of each points at each steps \n",
    "        \"\"\"\n",
    "        L = self.L\n",
    "        M = self.M\n",
    "\n",
    "        #Begin recursion: \n",
    "        change = True\n",
    "\n",
    "        clusters_list = []\n",
    "        M_list = []\n",
    "        L_M_list = []\n",
    "\n",
    "        #initialize cluster\n",
    "        clusters = [[] for i in range(0,len(M))]\n",
    "\n",
    "        while(change):\n",
    "            change = False\n",
    "\n",
    "            #Step 1: link the points to its cluster\n",
    "            clusters = [[] for i in range(0,len(M))]\n",
    "            L_M = np.zeros(len(L))\n",
    "\n",
    "            for i in range(len(L)):\n",
    "                p = L[i]\n",
    "                #Find the nearest neighboor\n",
    "                dist_list = [np.linalg.norm(p[:2]-M[i]) for i in range(0,len(M))]\n",
    "                ind_clusters = np.argmin(dist_list)\n",
    "                L_M[i] = ind_clusters\n",
    "                clusters[ind_clusters].append(p)\n",
    "\n",
    "            M_list.append(M.copy())\n",
    "            L_M_list.append(L_M)\n",
    "            clusters_list.append(clusters)\n",
    "\n",
    "            #Step 2: compute the new mean\n",
    "\n",
    "            for i in range(0,len(M)):\n",
    "                mean = self.compute_mean(clusters[i])\n",
    "                if(mean[0]!= M[i][0] or mean[1]!= M[i][1]):\n",
    "                    change=True\n",
    "                    M[i] = mean\n",
    "\n",
    "\n",
    "        return clusters_list, M_list, L_M_list\n",
    "    \n",
    "    def voro_line(self,pts,a,b,c,xlim,ylim,debug,d= [None]):\n",
    "        \"\"\"\n",
    "        return a list of N points of the line of the diagram of voronoi separating the centers \n",
    "        a and b and delimited by the point c and d\n",
    "        \n",
    "        Input: \n",
    "        \n",
    "        pts: list of the points from which we compute the k-clustering\n",
    "        a,b: centers of clusters\n",
    "        c,d: points that delimitate the voronoi diagram(if d=None, the line goes to infinity)\n",
    "        \"\"\"\n",
    "        #If d==none : we have a half-straight line\n",
    "\n",
    "        #if d==None we need to create an artificial line and the semi-line\n",
    "        #should be in the direction where the scalar product between the\n",
    "        #vector ca + cb and mx is negative for all x. Where m=a+ab/2\n",
    "\n",
    "        if(debug):\n",
    "            print('-------------------')\n",
    "            print('begin: voro_list')\n",
    "            print('-------------------')\n",
    "        \n",
    "        if(d[0]==None):\n",
    "            ab = b-a\n",
    "            m = a+ (b-a)/2\n",
    "            #plt.plot(m[0],m[1],color='r')\n",
    "            \n",
    "            #Draw the perpenticular of ab\n",
    "            if(ab[0] == 0):\n",
    "                dir_lin = np.array([1,0])\n",
    "            elif(ab[0] == 0):\n",
    "                dir_lin = np.array([0,1])\n",
    "            else:\n",
    "                dir_lin = np.array([1/ab[0],-1/ab[1]])\n",
    "            \n",
    "            #normalize dir_lin to diminish the risk of overflow\n",
    "            dir_lin = dir_lin/np.linalg.norm(dir_lin)\n",
    "            \n",
    "            #Test if the direction is good:\n",
    "            good_dir = True\n",
    "            prec = 1e-3\n",
    "            dir_tested = False\n",
    "            \n",
    "            for pt in pts: \n",
    "                if(debug):\n",
    "                    print('np.dot(pt-m,dir_lin)', np.dot(pt-m,dir_lin))\n",
    "                #If there is one point that is in the bad half-plan with\n",
    "                #the scalar product superior at the precision we change\n",
    "                #the direction. If the scalar product is below the negative\n",
    "                #precision we keep the direction. Otherwise the error is too\n",
    "                #big and we need to check with another point.\n",
    "                #We set the precision of the dot product with the variable prec \n",
    "                if(np.dot(pt-m,dir_lin)>prec):\n",
    "                    good_dir = False\n",
    "                    dir_tested = True\n",
    "                    break\n",
    "                elif(np.dot(pt-m,dir_lin)<-prec):\n",
    "                    dir_tested = True\n",
    "                    break\n",
    "                    \n",
    "            if(dir_tested == False):\n",
    "                print(\"ERROR THE PRECISION FOR THE SCALAR PRODUCT IS TOO BIG\")\n",
    "                raise Exception()\n",
    "                    \n",
    "            if(good_dir == False):\n",
    "                dir_lin = dir_lin*(-1)\n",
    "        else:\n",
    "            dir_lin = d-c\n",
    "        #############################################################\n",
    "        #We check where the box inside which we compute our graph is\n",
    "        #And we define the points c_red and d_red the insection with\n",
    "        #the line c-d / c-dir_lin with the cube [xlim]x[ylim]\n",
    "        intersect = False\n",
    "        \n",
    "        c_red = []\n",
    "        d_red = []\n",
    "        inside_c = False\n",
    "        inside_d = False\n",
    "        \n",
    "        #Points of the cube:\n",
    "        p1 = np.array([xlim[0],ylim[0]])\n",
    "        p2 = np.array([xlim[1],ylim[0]])\n",
    "        p3 = np.array([xlim[1],ylim[1]])\n",
    "        p4 = np.array([xlim[0],ylim[1]])\n",
    "        \n",
    "        #Compute the intersection points\n",
    "        if(d[0]!= None):\n",
    "            if(segment_segment(c,d,p1,p2,False)):\n",
    "                intersect = True\n",
    "                c_red = c + dir_lin*(ylim[0]-c[1])/dir_lin[1]\n",
    "            if(segment_segment(c,d,p3,p4,False)):\n",
    "                if(intersect):\n",
    "                    d_red = c + dir_lin*(ylim[1]-c[1])/dir_lin[1]\n",
    "                else:\n",
    "                    c_red = c + dir_lin*(ylim[1]-c[1])/dir_lin[1]\n",
    "                    intersect = True\n",
    "            if(segment_segment(c,d,p4,p1,False)):\n",
    "                if(intersect):\n",
    "                    d_red = c + dir_lin*(xlim[0]-c[0])/dir_lin[0]\n",
    "                else:\n",
    "                    c_red = c + dir_lin*(xlim[0]-c[0])/dir_lin[0]\n",
    "                    intersect = True\n",
    "            if(segment_segment(c,d,p2,p3,False)):\n",
    "                if(intersect):\n",
    "                    d_red = c + dir_lin*(xlim[1]-c[0])/dir_lin[0]\n",
    "                else:\n",
    "                    c_red = c + dir_lin*(xlim[1]-c[0])/dir_lin[0]\n",
    "        else:\n",
    "            if(ray_segment(c,dir_lin,p1,p2,False)):\n",
    "                intersect = True\n",
    "                c_red = c + dir_lin*(ylim[0]-c[1])/dir_lin[1]\n",
    "            if(ray_segment(c,dir_lin,p3,p4,False)):\n",
    "                if(intersect):\n",
    "                    d_red = c + dir_lin*(ylim[1]-c[1])/dir_lin[1]\n",
    "                else:\n",
    "                    c_red = c + dir_lin*(ylim[1]-c[1])/dir_lin[1]\n",
    "                    intersect = True\n",
    "            if(ray_segment(c,dir_lin,p4,p1,False)):\n",
    "                if(intersect):\n",
    "                    d_red = c + dir_lin*(xlim[0]-c[0])/dir_lin[0]\n",
    "                else:\n",
    "                    c_red = c + dir_lin*(xlim[0]-c[0])/dir_lin[0]\n",
    "                    intersect = True\n",
    "            if(ray_segment(c,dir_lin,p2,p3,False)):\n",
    "                if(intersect):\n",
    "                    d_red = c + dir_lin*(xlim[1]-c[0])/dir_lin[0]\n",
    "                else:\n",
    "                    c_red = c + dir_lin*(xlim[1]-c[0])/dir_lin[0]\n",
    "        \n",
    "        if(debug):\n",
    "            print('a,b,c,xlim,ylim,d: ', a,b,c,xlim,ylim,d)\n",
    "            print('dir_lin', dir_lin)\n",
    "        \n",
    "        \n",
    "        #We check if c and d are inside or outside the cube\n",
    "        if(np.sign(orientationDet(c, p1, p2)) == np.sign(orientationDet(c,p2,p3))\n",
    "           and np.sign(orientationDet(c,p2,p3)) == np.sign(orientationDet(c,p3,p4))\n",
    "           and np.sign(orientationDet(c,p3,p4)) == np.sign(orientationDet(c,p4,p1))):\n",
    "            inside_c = True\n",
    "        \n",
    "        if(debug):\n",
    "            print('inside c: ', inside_c)\n",
    "            print('c_red', c_red)\n",
    "            print('d_red', d_red)\n",
    "        \n",
    "        #############################################################\n",
    "        \n",
    "        #Now that c_red, d_red and inside_c are computed we differentiate the \n",
    "        #different cases to see if we need or not to draw the line.\n",
    "        \n",
    "        if(d[0] != None):\n",
    "            if(np.sign(orientationDet(d, p1, p2)) == np.sign(orientationDet(d,p2,p3))\n",
    "               and np.sign(orientationDet(d,p2,p3)) == np.sign(orientationDet(d,p3,p4))\n",
    "               and np.sign(orientationDet(d,p3,p4)) == np.sign(orientationDet(d,p4,p1))):\n",
    "                inside_d = True\n",
    "                \n",
    "            #print('inside d: ', inside_d)\n",
    "\n",
    "            if(inside_c and inside_d):\n",
    "                c_red = c\n",
    "                d_red = d\n",
    "            elif(inside_c):\n",
    "                d_red = c\n",
    "            elif(inside_d):\n",
    "                d_red = d\n",
    "            else:\n",
    "                if(len(d_red) == 0):\n",
    "                    return []\n",
    "        else:\n",
    "            if(inside_c and len(c_red)!= 0):\n",
    "                d_red = c_red\n",
    "                c_red = c\n",
    "            elif(len(d_red) == 0):\n",
    "                return []\n",
    "        \n",
    "        return np.array([[c_red[0],c_red[1]],[d_red[0],d_red[1]]])\n",
    "\n",
    "    def plot_voro(self,vor,M,xlim,ylim,debug):\n",
    "        \"\"\"\n",
    "        Plot voronoi diagram formed by the center of the clusters\n",
    "        \n",
    "        Input: \n",
    "            vor: scipy voronoi fonction return argument\n",
    "            M: the list of the clusters \n",
    "            xlim,ylim: dimensions and position of the screen of the graph\n",
    "        \"\"\"\n",
    "        num_line = len(vor.ridge_vertices)\n",
    "\n",
    "        for i in range(num_line):\n",
    "            a,b = [M[vor.ridge_points[i,0]], M[vor.ridge_points[i,1]]]\n",
    "            #Test if the line goes to the infinity \n",
    "            if(vor.ridge_vertices[i][0]==-1):\n",
    "                c = vor.vertices[vor.ridge_vertices[i][1]]\n",
    "                d = [None]\n",
    "            else:\n",
    "                c = vor.vertices[vor.ridge_vertices[i][0]]\n",
    "                d = vor.vertices[vor.ridge_vertices[i][1]]\n",
    "\n",
    "            line = self.voro_line(M,a,b,c,xlim,ylim,debug,d)\n",
    "            \n",
    "            if(len(line) != 0):\n",
    "                if(d[0] == None):\n",
    "                    plt.plot(line[:,0],line[:,1],color='k',linestyle='--')\n",
    "\n",
    "                else:\n",
    "                    plt.plot(line[:,0],line[:,1],color='k')\n",
    "\n",
    "\n",
    "    def plot_center(self,M,label,facecolor): \n",
    "        \"\"\"\n",
    "        Plot the centers of the clusters\n",
    "        \n",
    "        Input: \n",
    "        \n",
    "        M : list of the centers\n",
    "        facecolor : indicate if we color empty circle or filled circle\n",
    "        \"\"\"\n",
    "        \n",
    "        if(facecolor):\n",
    "            plt.scatter(M[:,0],M[:,1],color='r',label=label,facecolors='none')\n",
    "        else:\n",
    "            plt.scatter(M[:,0],M[:,1],color='r',label=label)\n",
    "        \n",
    "\n",
    "    def plot_cluster_M(self,step,xlim,ylim,voro,debug):\n",
    "        \"\"\"\n",
    "        Plot the cluster's centers M_list[step] with the next cluster's centers \n",
    "        and add a voronoi diagram of the cluster's centers\n",
    "        \n",
    "        Input:\n",
    "        \n",
    "            step: step of the k-means clustering\n",
    "            xlim: 2D array representing in the order minimum x and maximum x to in the graph\n",
    "            ylim: 2D array representing in the order minimum y and maximum y to in the graph\n",
    "            voro: Indicate if we need to compute the voronoi diagram of the means\n",
    "\n",
    "        Return:\n",
    "        \n",
    "            None \n",
    "        \"\"\"\n",
    "        \n",
    "        clusters = self.clusters_list[step]\n",
    "        M = self.M_list[step]\n",
    "        \n",
    "        vor = scipy.spatial.Voronoi(M)\n",
    "\n",
    "        #color_palette = np.linspace(400,700,num=len(M))\n",
    "        #color_palette = [wavelength_to_rgb(color) for color in color_palette]\n",
    "        color_palette = sns.color_palette(\"hls\", len(M))\n",
    "        \n",
    "        for i in range(len(M)):\n",
    "            cluster = np.array(clusters[i])\n",
    "            plt.scatter(cluster[:,0],cluster[:,1],color=color_palette[i])\n",
    "        \n",
    "        if(voro):\n",
    "            self.plot_voro(vor,M,xlim,ylim,debug)\n",
    "        self.plot_center(M,'centers',False)\n",
    "        #If we are not at the last step of our algorithm\n",
    "        #we compute the future means\n",
    "        if(step!= len(self.clusters_list)-1):\n",
    "            self.plot_center(self.M_list[step+1],'mean of the cluster',facecolor=True)\n",
    "            \n",
    "        plt.xlim(xlim)\n",
    "        plt.ylim(ylim)\n",
    "        plt.xlabel('x-axis')\n",
    "        plt.ylabel('y-axis')\n",
    "        plt.title('Graph of '+str(len(M))+'-clustersing at step'+str(step))\n",
    "        plt.legend()\n",
    "        plt.show()\n",
    "\n",
    "    def interactive_cluster(self,xlim_inf,xlim_sup,ylim_inf,ylim_sup,step,voro=True,debug=False):\n",
    "        \"\"\"\n",
    "        Interactive function to plot the step 'step' of the k-means clustering\n",
    "        using the interact jupyter widget\n",
    "        \n",
    "        Input:\n",
    "        \n",
    "        step: step of the k-means clustering\n",
    "        [xlim_inf,xlim_sup]: 2D array representing in the order minimum x and maximum x to in the graph\n",
    "        [ylim_inf,ylim_sup]: 2D array representing in the order minimum y and maximum y to in the graph\n",
    "        voro: Indicate if we need to compute the voronoi diagram of the means\n",
    "        \"\"\"\n",
    "        \n",
    "        return self.plot_cluster_M(step,np.array([xlim_inf,xlim_sup]),np.array([ylim_inf,ylim_sup]),voro,debug)"
   ]
  },
  {
   "cell_type": "code",
   "execution_count": 16,
   "id": "1cbc2230",
   "metadata": {
    "ExecuteTime": {
     "end_time": "2021-12-07T17:19:03.041085Z",
     "start_time": "2021-12-07T17:19:03.010083Z"
    }
   },
   "outputs": [],
   "source": [
    "def compute_exp_k_input(N):\n",
    "\n",
    "    \"\"\"\n",
    "    Code largely inspired by the one given by the article [1](see latex)\n",
    "    \"\"\"\n",
    "    \n",
    "    # N: NUMBER OF GADGETS IN THE INSTANCE (the leaf gadget does not count) \n",
    "\n",
    "    # Henceforth we will assume all the points are in the plane (i.e. 2 coordinates)\n",
    "    # We will use the third coordinate of a point to store its weight.\n",
    "\n",
    "\n",
    "    # It computes the square of the euclidean distance between x1 and x2\n",
    "    def d2(x1,x2):\n",
    "        return (x1[0]-x2[0])**2 + (x1[1]-x2[1])**2\n",
    "\n",
    "    # It computes the euclidean distance between x1 and x2\n",
    "    def d(x1,x2):\n",
    "        return m.sqrt(d2(x1,x2))\n",
    "\n",
    "    # It computes the center of mass of the (weighted) points in L\n",
    "    # Recall: the third coordinate of a point is its weight\n",
    "    def mean(L):\n",
    "        m   = [0.0, 0.0]\n",
    "        tot = 0\n",
    "        for p in L:\n",
    "            m[0] += p[0]*p[2]\n",
    "            m[1] += p[1]*p[2]\n",
    "            tot  += p[2]\n",
    "        return [m[0]/tot, m[1]/tot]\n",
    "\n",
    "\n",
    "    # The k-means algorithm. L is the set of points of the instance and M is the set of initial means.\n",
    "    # The function returns the number of iterations needed to stabilize.\n",
    "    # The stop condition is satisfied when no center moves\n",
    "    def kmeans(L, M):\n",
    "        iterations = 0\n",
    "        change = True\n",
    "        while change:\n",
    "            change = False\n",
    "            # assign points to current centers\n",
    "            clusters = [ [] for m in M ]\n",
    "            for x in L:\n",
    "                D = [d2(x,m) for m in M]\n",
    "                argmin = D.index(min(D))\n",
    "                clusters[argmin].append(x)\n",
    "\n",
    "            # recompute centers        \n",
    "            for i in range(len(M)):\n",
    "                if M[i] != mean(clusters[i]):\n",
    "                    M[i] = mean(clusters[i])\n",
    "                    change = True\n",
    "            iterations += 1\n",
    "        return iterations\n",
    "\n",
    "\n",
    "    ####################################### MAIN VALUES ########################### ###########################################\n",
    "    DELTA = 0.025                                                                        # definition of delta\n",
    "    LAMBDA = 0.00001                                                                     # definition of lambda\n",
    "    r = 1                                                                                # inner radius of the unit gadget\n",
    "    R = 1 + DELTA                                                                        # outer radius of the unit gadget\n",
    "    w = { \"A\":400, \"B\":400, \"C\":1100, \"D\":3100, \"E\":27400, \"P\":100, \"Q\":1 }              # weights of the points\n",
    "\n",
    "    w[\"F\"] = w[\"A\"]+w[\"B\"]+w[\"C\"]+w[\"D\"]                                                 # other useful weights\n",
    "    w[\"M\"] = w[\"A\"]+w[\"B\"]+w[\"C\"]+w[\"P\"]+w[\"Q\"]\n",
    "    w[\"N\"] = w[\"B\"]+w[\"C\"]+w[\"D\"]+w[\"E\"]+w[\"P\"]+w[\"Q\"]\n",
    "\n",
    "    # Points definition for the unit gadget: the third coordinate of a point is used to store its weight\n",
    "    P = [0,       0,                                                                                                    w[\"P\"]]\n",
    "    Q = [LAMBDA,  0,                                                                                                    w[\"Q\"]]\n",
    "    A = [1,      -0.5,                                                                                                  w[\"A\"]]\n",
    "    B = [1,       0.5,                                                                                                  w[\"B\"]]\n",
    "    C = [1,       m.sqrt( (w[\"M\"]*R)**2 - (w[\"A\"]+w[\"B\"]+w[\"C\"]+w[\"Q\"]*LAMBDA)**2)/w[\"C\"],                              w[\"C\"]]\n",
    "    D = [1,      (m.sqrt( (w[\"N\"]*R)**2 - (w[\"B\"]+w[\"C\"]+w[\"D\"]+w[\"Q\"]*LAMBDA)**2)-w[\"B\"]/2-w[\"C\"]*C[1]-w[\"E\"])/w[\"D\"], w[\"D\"]]\n",
    "    E = [0,       1,                                                                                                    w[\"E\"]]\n",
    "\n",
    "    # Stretches of A and B\n",
    "    sigmaA = m.sqrt( d2(A,mean([E,P,Q])) - d2(A,mean([A,B,C,D])) )\n",
    "    sigmaB = m.sqrt( d2(B,mean([E,P,Q])) - d2(B,mean([A,B,C,D])) )\n",
    "\n",
    "    # Definition of ratio between r_{i+1} and r_{i}\n",
    "    ratio = (w[\"F\"]+w[\"P\"]+w[\"Q\"])*sigmaA/((1+DELTA)*(w[\"P\"]+(1+LAMBDA)*w[\"Q\"]))\n",
    "\n",
    "    # Definition of the epsilon constant \n",
    "    EPS = 0.5 * min( [d(mean([A,B,C,D]),C)/(ratio*(1+DELTA)), LAMBDA/(1+DELTA), 1-sigmaB/sigmaA, \n",
    "                     1-(1+LAMBDA*w['Q'])*(w['F']+w['P']+w['Q'])/(w['F']*(1+DELTA)) ]) \n",
    "\n",
    "    ############################################################################################################################\n",
    "\n",
    "\n",
    "\n",
    "    ########################### CONSTRUCTION OF THE INSTANCE WITH N GADGETS (excluded the leaf gadget) #########################\n",
    "\n",
    "    # leaf gadget section\n",
    "    L = [ [0, 0, w[\"F\"]] ]                    # list of points in the instance, initialized with the point from the leaf gadget\n",
    "\n",
    "    #L_map = {'A':[], 'B':[], 'C':[], 'D':[],'E':[], 'P':[], 'Q':[],'F':[L[0]]} #Dictionnary of points in the instance\n",
    "    #keys = list(L_map.keys())\n",
    "\n",
    "    M = [ [0, 0] ]                            # list of initial means, initialized with the leaf gadget's mean\n",
    "    S = [0, 0]                                # the point S_0^*, useful for the construction of the other gadgets\n",
    "\n",
    "    S_list = np.zeros((N+1,2))                    # list of S_i^* points\n",
    "    S_list[0,:] = S\n",
    "\n",
    "    # non-leaf gadgets\n",
    "    U = [A,B,C,D,E,P,Q]                                                               # list of the points of the unit gadget\n",
    "\n",
    "    for i in range(N):\n",
    "        r = r*ratio    # inner radius r_i\n",
    "        newP = [ S[0]+r*(1+DELTA)*(1-EPS), S[1] ]                                     # point P_i\n",
    "        newG = ( [ [newP[0]+r*x[0], newP[1]+r*x[1], x[2]] for x in U] )               # computes points of i-th gadget\n",
    "        #for j in range(len(keys)-1):\n",
    "        #    L_map[keys[j]].append([newP[0]+r*U[j][0], newP[1]+r*U[j][1], U[j][2]])    #Add letters appart the F ones\n",
    "        L.extend( newG )                                                              # add points to the instance\n",
    "        M.extend( [ mean(newG[0:1]), mean(newG[1:]) ] )                               # add \"morning\" means \\mu{A_i} and \n",
    "                                                                                      # \\mu{B_i,C_i,D_i,E_i,P_i,Q_i}\n",
    "        S = mean( newG[:4])                                                           # S_i^*=\\mu{A_i,B_i,C_i,D_i}\n",
    "        S_list[i+1,:] = S\n",
    "\n",
    "    # Convertion to a numpy array\n",
    "    L = np.array(L)\n",
    "    M = np.array(M)\n",
    "\n",
    "    return L,M,S_list"
   ]
  },
  {
   "cell_type": "code",
   "execution_count": 17,
   "id": "11ca241e",
   "metadata": {
    "ExecuteTime": {
     "end_time": "2021-12-07T17:19:03.623376Z",
     "start_time": "2021-12-07T17:19:03.589409Z"
    }
   },
   "outputs": [],
   "source": [
    "def compute_sleep_list(fct,S_list):\n",
    "    \"\"\"\n",
    "    Give if each gadget is sleeping or not at each step \n",
    "    \n",
    "    Input:\n",
    "    \n",
    "        fct: a k_means_solver instance\n",
    "        N: the number of gadget\n",
    "        S_list: S_list computed by the compute_exp_k_input\n",
    "        \n",
    "    Return:\n",
    "    \n",
    "        A 2D list where the ie line and je column is a boolean\n",
    "        saying if at the ie step the je gadget sleeps \n",
    "    \"\"\"\n",
    "    sleep_list = []\n",
    "    \n",
    "    for j in range(0,len(fct.M_list)):\n",
    "        sleep_list.append([])\n",
    "        for i in range(0,len(S_list)):\n",
    "            sleep = False\n",
    "            for k in range(0,len(fct.M_list[j])):\n",
    "                if(np.linalg.norm(S_list[i]-fct.M_list[j][k])<1e-10):\n",
    "                    sleep_list[j].append(True) \n",
    "                    sleep = True\n",
    "                    break\n",
    "            if(not sleep):\n",
    "                sleep_list[j].append(False)\n",
    "                \n",
    "    return np.array(sleep_list)\n",
    "\n",
    "def see_observers_state(fct,N,S_list):\n",
    "    \"\"\"\n",
    "    Give the state of each gadget \n",
    "    \n",
    "    Input:\n",
    "    \n",
    "        fct: a k_means_solver instance\n",
    "        N: the number of gadget\n",
    "        S_list: S_list computed by the compute_exp_k_input\n",
    "        \n",
    "    Return:\n",
    "    \n",
    "        A 2D list where the ie line and je column represent the state\n",
    "        of the je gadget at the ie step\n",
    "    \"\"\"\n",
    "    \n",
    "    state_list = np.zeros((len(fct.M_list),N+1))\n",
    "    M_L_list = fct.M_L_list\n",
    "    sleep_list = compute_sleep_list(fct,S_list)\n",
    "    \n",
    "    #We parcour each step of the k-means\n",
    "    for i in range(0,len(fct.M_list)):\n",
    "        M_L = M_L_list[i]\n",
    "        \n",
    "        if(sleep_list[i][0] == True):\n",
    "            state_list[i,0] = 6#'Night'\n",
    "        else:\n",
    "            state_list[i,0] = 0#'Morning'\n",
    "        \n",
    "        #We see the status of each observers at a fixed moment appart from the first\n",
    "        #one because he is just awake or sleeping\n",
    "        for j in range(1,N+1):\n",
    "            #c_prec represent the point of the precendent gedget that is moved in a cluster of the next gadget\n",
    "            #during the waking up process\n",
    "            if(j>=2):\n",
    "                c_prec = M_L[1 + (j-2)*7]\n",
    "            else:\n",
    "                c_prec = M_L[0]\n",
    "            c_A = M_L[1 + (j-1)*7]\n",
    "            c_B = M_L[1 + (j-1)*7+1]\n",
    "            c_C = M_L[1 + (j-1)*7+2]\n",
    "            c_D = M_L[1 + (j-1)*7+3]\n",
    "            c_E = M_L[1 + (j-1)*7+4]\n",
    "            c_P = M_L[1 + (j-1)*7+5]\n",
    "            c_Q = M_L[1 + (j-1)*7+6]\n",
    "            \n",
    "            #If all the points appart from A are in the same cluster it is the morning\n",
    "            if(c_A != c_B and c_B==c_C and c_C == c_D and c_D == c_E and c_E == c_P and c_P == c_Q):\n",
    "                state_list[i,j] = 0#'Morning'\n",
    "            #If A,B and P are in differents clusters it this the first call part 1.(the rest follow the same\n",
    "            #logic) \n",
    "            elif(c_A!=c_B and c_B!= c_P and c_P!=c_A):\n",
    "                state_list[i,j] = 1#'1st call part 1'\n",
    "            elif(c_A!=c_C and c_C!=c_Q and c_Q!=c_A):\n",
    "                state_list[i,j] = 2#'1st call part 2'\n",
    "            elif(c_A == c_P):\n",
    "                state_list[i,j] = 3#'Afternoon'\n",
    "            elif(c_A == c_Q):\n",
    "                state_list[i,j] = 4#'2nd call part 1'\n",
    "            elif(c_P == c_prec):\n",
    "                state_list[i,j] = 5#'2nd call part 2'\n",
    "            else:\n",
    "                state_list[i,j] = 6#'Night'\n",
    "                \n",
    "    return np.array(state_list)\n",
    "\n",
    "def plot_state(state_list):\n",
    "    \"\"\"\n",
    "    Plot the state of each gadget at each step\n",
    "    \"\"\"\n",
    "    \n",
    "    info = ['Morning','1st call part 1','1st call part 2','Afternoon','2nd call part 1','2nd call part 2','Night']\n",
    "    colors = ['gold','greenyellow','green','darkgreen','royalblue','mediumblue','black']\n",
    "    plt.figure(figsize=(5,15))\n",
    "    plt.title('Who is doing what?')\n",
    "    df_state = pd.DataFrame(state_list)\n",
    "    plt.imshow(df_state,aspect='auto',cmap=mpl.colors.ListedColormap(colors))\n",
    "    plt.yticks(np.arange(len(df_state.index)), labels=df_state.index)\n",
    "    plt.xticks(np.arange(len(df_state.columns)), labels=df_state.columns)\n",
    "    plt.xlabel('gadget number')\n",
    "    plt.ylabel('step number')\n",
    "    cb = plt.colorbar()\n",
    "    cb.set_ticks(np.arange(len(colors)))\n",
    "    cb.set_ticklabels(info)\n",
    "    plt.show()\n",
    "\n",
    "def plot_sleep(sleep_list):\n",
    "    \"\"\"\n",
    "    Plot which gadget is sleeping at each step\n",
    "    \"\"\"\n",
    "\n",
    "    df_sleep = pd.DataFrame(sleep_list)\n",
    "    plt.figure(figsize=(5,10))\n",
    "    plt.title('Who is sleeping?(yellow=sleeps, blue=awake)')\n",
    "    plt.imshow(df_sleep,aspect='auto')\n",
    "    plt.xlabel('gadget number')\n",
    "    plt.ylabel('step number')\n",
    "    plt.yticks(np.arange(len(df_sleep.index)), labels=df_sleep.index)\n",
    "    plt.xticks(np.arange(len(df_sleep.columns)), labels=df_sleep.columns)\n",
    "    plt.show()"
   ]
  },
  {
   "cell_type": "code",
   "execution_count": 18,
   "id": "7e0d29ac",
   "metadata": {
    "ExecuteTime": {
     "end_time": "2021-12-07T17:19:04.267204Z",
     "start_time": "2021-12-07T17:19:04.239209Z"
    }
   },
   "outputs": [],
   "source": [
    "def get_points():\n",
    "    \n",
    "    \"\"\"\n",
    "    Initialize points generated by 3 normal law centered at\n",
    "    differents places\n",
    "    \"\"\"\n",
    "    \n",
    "    #Create random points\n",
    "\n",
    "    #number of points in each cluster\n",
    "    N = 100\n",
    "    #number of cluster\n",
    "    k = 3\n",
    "    #Fixe la seed\n",
    "    np.random.seed(1)\n",
    "    w_pts = np.ones((k*N,3))\n",
    "    w_pts[:N,:2] = np.random.randn(N,2)+[4,1]\n",
    "    w_pts[N:2*N,:2] = np.random.randn(N,2)+[-3,-2]\n",
    "    w_pts[2*N:,:2] = np.random.randn(N,2)+[0,0]\n",
    "    pts = w_pts[:,:2]\n",
    "    \n",
    "    return pts, w_pts,k\n",
    "    \n",
    "def introduction():\n",
    "    \"\"\"\n",
    "    Show a set of points\n",
    "    \"\"\"\n",
    "    pts,w_pts,k = get_points()\n",
    "    plt.scatter(w_pts[:,0],w_pts[:,1])\n",
    "    plt.title('Representation of 3 gaussian samples with different centers')\n",
    "    plt.show()\n",
    "    \n",
    "def run_interact():\n",
    "    \"\"\"\n",
    "    Compute the k-means of a set of points and plot and interactive graph of it\n",
    "    \"\"\"\n",
    "    pts, w_pts,k = get_points()\n",
    "    M = pts[:k,:2].copy()\n",
    "    fct = k_means_solver(w_pts,M)\n",
    "    res = interact(fct.interactive_cluster,xlim_inf=widgets.FloatText(-4),\n",
    "                   xlim_sup=widgets.FloatText(4),ylim_inf=widgets.FloatText(-4),ylim_sup=widgets.FloatText(4), \n",
    "                   step=widgets.IntSlider(min=1, max=len(fct.M_list)-1),debug=fixed(False))\n",
    "    \n",
    "def show_state():\n",
    "    \"\"\"\n",
    "    Show how the exponential time algorithm works\n",
    "    \"\"\"\n",
    "    #Number of Gadget\n",
    "    N = 3\n",
    "    \n",
    "    L,M,S_list = compute_exp_k_input(N)\n",
    "    fct = k_means_solver(L,M)\n",
    "    sleep_list = compute_sleep_list(fct,S_list)\n",
    "    state_list = see_observers_state(fct,N,S_list)\n",
    "    plot_sleep(sleep_list)\n",
    "    plot_state(state_list)"
   ]
  },
  {
   "cell_type": "markdown",
   "id": "e3155c18",
   "metadata": {},
   "source": [
    "## Picture images"
   ]
  },
  {
   "cell_type": "code",
   "execution_count": 21,
   "id": "14b161eb",
   "metadata": {
    "ExecuteTime": {
     "end_time": "2021-12-07T17:20:20.940799Z",
     "start_time": "2021-12-07T17:20:20.826528Z"
    }
   },
   "outputs": [
    {
     "name": "stderr",
     "output_type": "stream",
     "text": [
      "'apt' n’est pas reconnu en tant que commande interne\n",
      "ou externe, un programme exécutable ou un fichier de commandes.\n",
      "'svn' n’est pas reconnu en tant que commande interne\n",
      "ou externe, un programme exécutable ou un fichier de commandes.\n"
     ]
    }
   ],
   "source": [
    "###To use in colaboratory###\n",
    "#Load the images for the notebook\n",
    "!apt install subversion\n",
    "!svn checkout https://github.com/Cail626/INF420-k_means/trunk/images"
   ]
  },
  {
   "cell_type": "markdown",
   "id": "d6a624a4",
   "metadata": {
    "id": "d6a624a4"
   },
   "source": [
    "# Presentation of the k-means algorithm"
   ]
  },
  {
   "cell_type": "markdown",
   "id": "6d63ffbb",
   "metadata": {
    "id": "6d63ffbb"
   },
   "source": [
    "The k-means algorithm is a popular method used to distinguish a know number of set of close points. This algorithm take into input all the points and the number of clusters to discover(represented by the variable k). At the end, it return k 2 by 2 disjoints set of points. The clustering is generally used to minimize the distances of the points inside the clusters with their center and maximalize the distance of the clusters between each other."
   ]
  },
  {
   "cell_type": "markdown",
   "id": "74ae81b5",
   "metadata": {
    "id": "74ae81b5"
   },
   "source": [
    "The k-means algorithm was introduced the first times in 1957 by Llyod [3] and in 1967 by McQueen [2]. It is also named the Lloyd's algorithm [1].\n",
    "\n",
    "After it, it gained lots of popularity: in  Berkhin remarks that this is \"by far the most popular clustering algorithm used in scientific and industrial applications\" [1]. The avantage of this algorithm is that it is easy to implement and understand each one of his step but it is difficult to grasp its complexity; as we will show that we needed to wait until 2011 to find a special case where the algorithm has an exponential number of iteration."
   ]
  },
  {
   "cell_type": "markdown",
   "id": "e4b73f4d",
   "metadata": {
    "id": "e4b73f4d"
   },
   "source": [
    "In this part we will explain how to algorithm is implemented: \n",
    "\n",
    "Let suppose that we work in 2D spaces. Let, n be the number of points, k be the number of clusters, $X \\in R^{nx3}$ representing for each points its x-y coordinate and it's weight. $C_1,...,C_k$ represent the set of points associated to each clusters. Let w be the function that to a coordinate $x \\in R^2$ associate a weight.\n",
    "\n",
    "The k-means iterative algorithm can be presented in 3 step: \n",
    "\n",
    "1. initialisation\n",
    "\n",
    "Let $c_1,...c_k$ be a first guess of the center point of the clusters\n",
    "\n",
    "2. Interation\n",
    "\n",
    "We compute the new set $C_i \\forall i \\in {1,...k}$ such that $x \\in C_i \\iff ||x-c_i|| < ||x-c_j|| \\; \\forall j \\in {1,...,k}, i\\neq j$. Meaning that each point is inside its closest cluster. \n",
    "\n",
    "And we compute the new coordinate $c_i \\forall i\\in {1,...,k}$ such that $c_i = \\frac{1}{|C_i|}\\sum_{x\\in C_i} w(x)*x$.\n",
    "\n",
    "3. Termination\n",
    "\n",
    "We stop the algorithm if all the center coordinates $c_i$ don't changes between 2 iteration of the algorithm.\n"
   ]
  },
  {
   "cell_type": "markdown",
   "id": "baea3b43",
   "metadata": {},
   "source": [
    "With the implementation above it is important to understand that the k-means algorithm is an euristic and doesn't always converge to a global optimum instead, it can converge to a local optima. One method to solve this problem is to try different initialisation. The article of Celebi and al. show a comparaison of the differents initialisation methods of the k-means algorithms. [4]"
   ]
  },
  {
   "cell_type": "markdown",
   "id": "0d051a7d",
   "metadata": {
    "id": "0d051a7d"
   },
   "source": [
    "A first analysis of the complexity show that we can create an algorithm to compute one iteration of k-means in $O(kn)$. Let suppose that we store our element in a list so that the access takes constant time and computing the size takes linear time. Indeed, the first step can be done by a for loop on the $x\\in X$ where at each step we compute the closest cluster in $O(k)$. \n",
    "\n",
    "The second step can be done in $O(n)$. Indeed, $\\forall i $ the computing of the numerator and denominator takes $O(|C_i|)$ time. Using this information, the complexity is $\\sum_{i=1}^k O(|C_i|) = O(\\sum_{i=1}^k |C_i|) = O(n)$. Because the set |C_i| are disjoints. "
   ]
  },
  {
   "cell_type": "markdown",
   "id": "864ba829",
   "metadata": {
    "id": "864ba829"
   },
   "source": [
    "## Initialisation of the code"
   ]
  },
  {
   "cell_type": "markdown",
   "id": "2a5a9206",
   "metadata": {
    "id": "2a5a9206"
   },
   "source": [
    "To understand how to algorithm works, I created an interactive algorithm. I will explain below how this algorithm works and also how we can have some intuition about how the algorithm works. "
   ]
  },
  {
   "cell_type": "code",
   "execution_count": 7,
   "id": "4f0de89c",
   "metadata": {
    "ExecuteTime": {
     "end_time": "2021-12-04T13:07:54.918965Z",
     "start_time": "2021-12-04T13:07:53.660692Z"
    },
    "id": "4f0de89c",
    "outputId": "50ec7ec4-4208-4af4-9faf-39de5f5f1dc2"
   },
   "outputs": [
    {
     "data": {
      "image/png": "[encoded data removed]",
      "text/plain": [
       "<Figure size 432x288 with 1 Axes>"
      ]
     },
     "metadata": {
      "needs_background": "light"
     },
     "output_type": "display_data"
    }
   ],
   "source": [
    "introduction()"
   ]
  },
  {
   "cell_type": "markdown",
   "id": "02227ead",
   "metadata": {
    "id": "02227ead"
   },
   "source": [
    "Below we present an interactive program that show each step of the k-cluster algorithm. Each color of the points of $X$ is associated with a cluster. In red we represent the centers that we used to compute the clusters and the red hollow circle is the mean of the clusters computed that will become the centers for the next clusters that we will compute. The lines represent the voronoi diagram of the centers. The lines are dotted if one of their side continue to the infinity. The principle is that the voronoi diagram represent the limit where each point will be at the same distance between 2 cluster's center. \n",
    "\n",
    "- The variables xlim_inf,xlim_sup,ylim_inf and ylim_sup represent the dimensions of the windows inside which we show the differents clusters.\n",
    "- The step slider represent the step of the algorithm. The initialisation step is not show in the slider. \n",
    "- voro indicate if we want or not to compute the voronoi diagram of the centers."
   ]
  },
  {
   "cell_type": "markdown",
   "id": "41c0b415",
   "metadata": {
    "id": "41c0b415"
   },
   "source": [
    "Let use understand roughly how this works: \n",
    "\n",
    "At the first step we see that one cluster(the green one) has taken the 2 sets generated by different normals. At the next step, we see that it will tend to go to the middle between the two normal's centers. Little by little at each steps the green cluster will have less and less points and goes to the left normal. For the 2 points inside the first cluster they will gradually increase their size. The most left-oriented center will tend to go the middle cluster and the other will go the right. "
   ]
  },
  {
   "cell_type": "code",
   "execution_count": 9,
   "id": "cf1e3b70",
   "metadata": {
    "ExecuteTime": {
     "end_time": "2021-12-04T13:12:30.506530Z",
     "start_time": "2021-12-04T13:12:29.568536Z"
    },
    "colab": {
     "referenced_widgets": [
      "82b921f9fd9e47debee563b72989f02a"
     ]
    },
    "id": "cf1e3b70",
    "outputId": "acfdeab8-568d-48c2-8747-3d39bf6c837b"
   },
   "outputs": [
    {
     "data": {
      "application/vnd.jupyter.widget-view+json": {
       "model_id": "8fbe6125e1a3414ca06a4ba6055656f3",
       "version_major": 2,
       "version_minor": 0
      },
      "text/plain": [
       "interactive(children=(FloatText(value=-4.0, description='xlim_inf'), FloatText(value=4.0, description='xlim_su…"
      ]
     },
     "metadata": {},
     "output_type": "display_data"
    }
   ],
   "source": [
    "run_interact()"
   ]
  },
  {
   "cell_type": "markdown",
   "id": "1282bb5c",
   "metadata": {
    "id": "1282bb5c"
   },
   "source": [
    "# The flaw of the k-means algorithm: "
   ]
  },
  {
   "cell_type": "markdown",
   "id": "0602ccea",
   "metadata": {
    "id": "0602ccea"
   },
   "source": [
    "Now that we better understand how this algorithm works, let's dig futher to see it's limit.\n",
    "\n",
    "In 2009, Andrea Vattani wrote an article about the complexity of the k-means in the plane where he find a particular case where the algorithm has an exponential time. More precisely, given n and k such that $k=\\Theta(n)$, the algorithm takes $2^{\\Omega(n)}$. [1]\n",
    "\n",
    "The algorithm is difficult to explain mathematically so I will explain how intuitively this algorithm is meant to work. Also the algorithm is difficult to illustrate with the interactive program because the graph is too large and there seems to be some computational problem when we want to compute the voronoi diagram of the cluster for large n. Therefore, we will  reuse the diagram used in the article,reexplain with our words how it works and show some intuitive plots about the program."
   ]
  },
  {
   "cell_type": "markdown",
   "id": "df7f98dc",
   "metadata": {
    "id": "df7f98dc"
   },
   "source": [
    "The principle of this born is to control how the algorithm works to obtain an exponential time algorithm. Let $t$ be an integer. For this algorithm we will call $W_i$ for $i=0,...,t-1$ a watchman(which correspond to a set of point). Each watchman works in cycles of 3 step(morning, afternoon and night). \n",
    "\n",
    "- For $i>0$ the watchman $W_i$. The watchman is waiting to be awoken by $W_{i+1}$ to begin his 'day' cycle\n",
    "    - During the morning, $W_i$ check if $W_{i-1}$ is slepping. If yes, he wakes up $W_{i-1}$ and pass to the next step. If no he waits until $W_{i-1}$ sleeps\n",
    "    - During the afternoon, its the same logic: $W_i$ check if $W_{i-1}$ is slepping. If yes, he wakes up $W_{i-1}$ and pass to the next step. If no he waits until $W_{i-1}$ sleeps.\n",
    "    - During the night, $W_i$ goes into sleep.\n",
    "\n",
    "The figure 1 below illustrate this concept\n",
    "\n",
    "- For $i=0$, the watchman has a two step cycle. If he is woken up, he stay awake one cycle and after it sleeps.\n"
   ]
  },
  {
   "cell_type": "code",
   "execution_count": null,
   "id": "48b824a2",
   "metadata": {},
   "outputs": [],
   "source": [
    "img = cv2.imread(r'images/watchers.jpg') \n",
    "cv2_imshow(img) "
   ]
  },
  {
   "cell_type": "markdown",
   "id": "c94e29e7",
   "metadata": {},
   "source": [
    "## Transposition to the algorithm"
   ]
  },
  {
   "cell_type": "markdown",
   "id": "ffe5d22c",
   "metadata": {},
   "source": [
    "In the algorithm, each watchman $W_i, \\; i>0$ correspond to a gadget $G_i$ which is a tuple $(\\mathcal{P_i},T_i,r_i,R_i)$ where $\\mathcal{P_i}$ is a set of seven weighted points $\\{P_i,Q_i,A_i,B_i,C_i,D_i,E_i\\}$ in the $\\mathbb{R}^2$ space. $r_i$ and $R_i$ are the inner and outer radious which are tools to ease the mathematical construction of the algorithm. $T_i$ is the position of the centers at initialisation. Let us call $S_i^*$ the center of mass of the points $\\{A_i,B_i,C_i,D_i\\}$. We say that one gadget \"falls asleep\" when one center of the gadjet touches the point $S_i^*$.\n",
    "\n",
    "The lead Gadget $G_0$ correspond just to a point $P_0= \\{F\\}$ and one center $ |T_0|=1 $. We say also that $S_0^*=F$.\n",
    "\n",
    "The algorithms is prouved to work with any initialisation that takes points among the dataset. "
   ]
  },
  {
   "cell_type": "markdown",
   "id": "396bf7e6",
   "metadata": {},
   "source": [
    "Now we will explain with the figure of the article[1] that shows how the algorithm works for a typical gadget such that $i>0$. \n",
    "\n",
    "The figure 2 show the days of a gadget. \n",
    "The figure 3 show how a gadget is woken up.\n",
    "\n",
    "There figure are used two compute the graph below that say at witch step is the gadget. There is 7 steps in the cycle of a gadget $G_i$: \n",
    "\n",
    "- The Morning: it waits that $G_{i-1}$ sleeps\n",
    "- 1st Call: wake up $G_{i-1}$ a first time. This call last two steps. \n",
    "- The Afternoon: it waits that $G_{i-1}$ sleeps\n",
    "- 2nd Call: same things that the 1st Call.\n",
    "- The Night: $G_i$ sleeps\n",
    "\n",
    "When $i=0$ there is just 2 step: Morning and Night. "
   ]
  },
  {
   "cell_type": "code",
   "execution_count": null,
   "id": "f6dadc8e",
   "metadata": {},
   "outputs": [],
   "source": [
    "img = cv2.imread(r'images/day_gadget.jpg') \n",
    "cv2_imshow(img) "
   ]
  },
  {
   "cell_type": "code",
   "execution_count": null,
   "id": "f78b1c45",
   "metadata": {},
   "outputs": [],
   "source": [
    "img = cv2.imread(r'images/wake_up.jpg') \n",
    "cv2_imshow(img) "
   ]
  },
  {
   "cell_type": "markdown",
   "id": "02746b4f",
   "metadata": {},
   "source": [
    "To better understand the synergy between the differents gadgets the two graphs belows show each state of each gadgets during the differents steps of the k-means:\n",
    "\n",
    "We can have a first understanding of the algorithm by looking at \"Who is sleeping?\" graph below. We see that when the last gadget $G_3$ sleeps there is no ones to wakes him up so he will always sleep. By induction we deduce that all the gadgets will sleep after some times.\n",
    "\n",
    "The second graph show the cycle of the gadgets. We see that each one of them follow the cycle precisely and wakes up the other gadget two times before sleeping. There is also a waiting processes before moving to the next step."
   ]
  },
  {
   "cell_type": "code",
   "execution_count": 9,
   "id": "174ad0ac",
   "metadata": {
    "ExecuteTime": {
     "end_time": "2021-11-30T09:05:29.677999Z",
     "start_time": "2021-11-30T09:05:25.993274Z"
    },
    "scrolled": false
   },
   "outputs": [
    {
     "data": {
      "image/png": "[encoded data removed]",
      "text/plain": [
       "<Figure size 360x720 with 1 Axes>"
      ]
     },
     "metadata": {
      "needs_background": "light"
     },
     "output_type": "display_data"
    },
    {
     "data": {
      "image/png": "[encoded data removed]",
      "text/plain": [
       "<Figure size 360x1080 with 2 Axes>"
      ]
     },
     "metadata": {
      "needs_background": "light"
     },
     "output_type": "display_data"
    }
   ],
   "source": [
    "show_state()"
   ]
  },
  {
   "cell_type": "markdown",
   "id": "0b4b92fe",
   "metadata": {},
   "source": [
    "## Supplementary informations about the algorithm"
   ]
  },
  {
   "cell_type": "markdown",
   "id": "4e968e40",
   "metadata": {},
   "source": [
    "The algorithm works with weighted points. But it is prouven that it can works with non-weigthed points. Indeed it is prouved in the article[1] that during each step none of the points of the algorithm is never at equals distance of 2 clusters. Below I explain how we can convert each points into a non-weighted points set:\n",
    "\n",
    "1. We find a circle around each of those points that are never intersected by the lines of the voronoi diagram.(using property explained just above)\n",
    "2. We place a number of new points inside this circle such that this numbers equals the weight of the initial point and their center is a the position of the initial weighted point.\n",
    "\n",
    "By induction by the step of the algorithm in increasing order we see that the new means and clusters and identics. "
   ]
  },
  {
   "cell_type": "markdown",
   "id": "ea7f697f",
   "metadata": {},
   "source": [
    "# The graphical interface\n",
    "\n",
    "To give a better understading of the k-means algorithm I created an interactive interface which represent each clusters by one color, shows the mean of the cluster and shows the 'center' of the cluster. The centers represent the set of points $c_i \\; \\forall i\\in\\{1,...,n\\}$ from which we compute the current clusters. The mean of the cluster represent where the next cluster $c_{i+1}$ will be located. \n",
    "\n",
    "To better understand how to centers are computed, we add a voronoï diagram of the centers. Each faces of the voronoï diagram represent a set where all the points inside it belongs to the same cluster. \n",
    "\n",
    "## Compute the Voronoi graph\n",
    "\n",
    "### How to draw the voronoi lines\n",
    "\n",
    "To better understand where the points will be separated between clusters, we do a Voronoi diagram of the centers. To do this we use the scipy function Voronoi diagram: scipy.spatial.Voronoi but this function is not easy to use because it will return for each segment of the voronoi diagram the two points of the voronoi diagram that delimit the segment and the 2 centers that was used to compute it. But there is a case where the segment is a ray, let's call it $R$, that goes to the infinity and the scipy function return the starting point of the ray and we need to find it's direction from the 2 centers associated. \n",
    "\n",
    "Let $c_1$ and $c_2$ be the 2 centers mentionned before. To compute the ray, we need to understand that it is included inside the line $L$ where $x\\in L \\iff d(c_1,x)=d(c_2,x)$. We see that the perdendicular of the vector $c_2 - c_1$ and passing by the middle of the two points $(c_1+c_2)/2$ correspond to this line. \n",
    "\n",
    "Now the difficult part is to find the direction of the line. To do this we need to understand that there should be no centers in the half-plan delimited by the line passing by $c_2$ and $c_1$ and in the direction such that it insect $R$ at the infinity(or we can say that the length of the intersection of the half-plan and R has an infinite length). Indeed, let prove it by contradiction; if there is a center $c$ that is stricly inside this plan, we define $c_p$ the point between $c_1$ and $c_2$ that is the nearest of $c$. We will draw the line where the points are at equal distance between $c$ and $c_p$. This line must intersect the ray at some point. If we continue further in the direction of the ray, the point will be stricly closer to $c$ that $c_p$ and we arrive at a contradiction because by definition this line must have $c_1$ and $c_2$ as the closest clusters. The graph below show an example to illustrate this point. \n"
   ]
  },
  {
   "cell_type": "code",
   "execution_count": 23,
   "id": "05925f52",
   "metadata": {
    "ExecuteTime": {
     "end_time": "2021-12-07T17:27:14.584557Z",
     "start_time": "2021-12-07T17:27:14.180297Z"
    }
   },
   "outputs": [
    {
     "ename": "NameError",
     "evalue": "name 'cv2_imshow' is not defined",
     "output_type": "error",
     "traceback": [
      "\u001b[1;31m---------------------------------------------------------------------------\u001b[0m",
      "\u001b[1;31mNameError\u001b[0m                                 Traceback (most recent call last)",
      "\u001b[1;32m<ipython-input-23-6b8668ff9d2d>\u001b[0m in \u001b[0;36m<module>\u001b[1;34m\u001b[0m\n\u001b[0;32m      1\u001b[0m \u001b[0mimg\u001b[0m \u001b[1;33m=\u001b[0m \u001b[0mcv2\u001b[0m\u001b[1;33m.\u001b[0m\u001b[0mimread\u001b[0m\u001b[1;33m(\u001b[0m\u001b[1;34mr'images/img_1.jpg'\u001b[0m\u001b[1;33m)\u001b[0m\u001b[1;33m\u001b[0m\u001b[1;33m\u001b[0m\u001b[0m\n\u001b[1;32m----> 2\u001b[1;33m \u001b[0mcv2_imshow\u001b[0m\u001b[1;33m(\u001b[0m\u001b[0mimg\u001b[0m\u001b[1;33m)\u001b[0m\u001b[1;33m\u001b[0m\u001b[1;33m\u001b[0m\u001b[0m\n\u001b[0m",
      "\u001b[1;31mNameError\u001b[0m: name 'cv2_imshow' is not defined"
     ]
    }
   ],
   "source": [
    "img = cv2.imread(r'images/img_1.jpg')\n",
    "cv2_imshow(img) "
   ]
  },
  {
   "cell_type": "markdown",
   "id": "fe2ad7eb",
   "metadata": {},
   "source": [
    "In practice to see if the first perpendicular direction that we compute is good we check for one center $c$ if the angle between the ray vector $r$ and $c-m$ is larger or smaller than 90° as show in the pseudo-code below. The $prec$ variable serve to eliminate the cases where the angle is near 90° and he risk to generate some computationnal errors. In this cases, We check another point in the list of the centers.  \n",
    "\n",
    "    r = perpendicular(c_1,c_2)\n",
    "    m = (c_1+c_2)/2\n",
    "    prec = 1e-10\n",
    "    for c in centers: \n",
    "        if( dot_product(c-m,r) > prec ):\n",
    "            dir_lin *= -1\n",
    "            break\n",
    "        elif( dot_product(c-m,r) < prec ):\n",
    "            dir_lin *= 1\n",
    "            break\n",
    "                 \n",
    "                 \n",
    "Now we need to see where is the limit of our line. Before explaining the topic, let's explain how matplotlib work to draw a segment in 2D. It is a function that takes two set points, one for the x axis($X$) and another for the y axis($Y$) and plot each tuple in 2D space containing the $i^e$ of X and Y and links them with a segment. \n",
    "\n",
    "We want to plot the line inside the square defined by $[x\\_lim[0],x\\_lim[1]]\\; \\times \\; [y\\_lim[0],y\\_lim[1]]$. To do this we need to find the intersection of the ray with the cube. To do this we compute the intersections points of the ray with the square segment by segment in 2 step where each segment contain 2 corners of the cube.\n",
    "\n",
    "step 1: We check if the ray touches the segment of cube with the code that we have seen in the exercice session. \n",
    "step 2: We compute mathematically the formula of the intersection between 2 lines. \n",
    "\n",
    "If the point is inside the square(checked with the technique seen in the exercice sessions) we have the limit point of our ray which is where an intersection with a segment happend.\n",
    "\n",
    "If the point is outside the square. If we find 2 differents points of intersections we draw the line. Otherwise we do nothing because the line doesn't go inside the square. \n",
    "\n",
    "\n",
    "\n",
    "## The definition of the colorpalette\n",
    "\n",
    "To have a nice graphical representation, we need to have a good colorpalette representing the differents clusters\n",
    "\n",
    "To do that 2 ideas where tested: \n",
    "\n",
    "The first one consist to divide the light's spectrum in a serie of point at equal distance(in wavelength basis) between each other: "
   ]
  },
  {
   "cell_type": "code",
   "execution_count": null,
   "id": "fb1297b7",
   "metadata": {},
   "outputs": [],
   "source": [
    "img = cv2.imread(r'images/img_2.jpg')\n",
    "cv2_imshow(img) "
   ]
  },
  {
   "cell_type": "markdown",
   "id": "aa07ab6e",
   "metadata": {},
   "source": [
    "When we have lot's of clusters the colors are beginning to ressemble to each others."
   ]
  },
  {
   "cell_type": "code",
   "execution_count": null,
   "id": "dea00993",
   "metadata": {},
   "outputs": [],
   "source": [
    "img = cv2.imread(r'images/img_3.jpg')\n",
    "cv2_imshow(img) "
   ]
  },
  {
   "cell_type": "markdown",
   "id": "2c98552b",
   "metadata": {},
   "source": [
    "The other solution in to use seaborn color system which optimize the hue to better distinguish the points. According to https://www.merriam-webster.com/dictionary/hue, the hue is \"the attribute of colors that permits them to be classed as red, yellow, green, blue, or an intermediate between any contiguous pair of these colors\". \n",
    "\n",
    "To implement it we use the sns library. \n",
    "\n",
    "Below you can see the application of the new color-palette on the dataset. In the second graph there is still color that resemble each-others but it seems better than the previous ones. "
   ]
  },
  {
   "cell_type": "code",
   "execution_count": null,
   "id": "82c7c645",
   "metadata": {},
   "outputs": [],
   "source": [
    "img = cv2.imread(r'images/img_4.jpg')\n",
    "cv2_imshow(img) \n",
    "img = cv2.imread(r'images/img_5.jpg')\n",
    "cv2_imshow(img) "
   ]
  },
  {
   "cell_type": "markdown",
   "id": "edce6fb7",
   "metadata": {},
   "source": [
    "# References"
   ]
  },
  {
   "cell_type": "code",
   "execution_count": null,
   "id": "cdaf6dcd",
   "metadata": {},
   "outputs": [],
   "source": [
    "img = cv2.imread(r'images/ref.jpg')\n",
    "cv2_imshow(img) "
   ]
  }
 ],
 "metadata": {
  "colab": {
   "name": "Report_k-means.ipynb",
   "provenance": []
  },
  "kernelspec": {
   "display_name": "Python 3",
   "language": "python",
   "name": "python3"
  },
  "language_info": {
   "codemirror_mode": {
    "name": "ipython",
    "version": 3
   },
   "file_extension": ".py",
   "mimetype": "text/x-python",
   "name": "python",
   "nbconvert_exporter": "python",
   "pygments_lexer": "ipython3",
   "version": "3.8.8"
  },
  "toc": {
   "base_numbering": 1,
   "nav_menu": {},
   "number_sections": true,
   "sideBar": true,
   "skip_h1_title": false,
   "title_cell": "Table of Contents",
   "title_sidebar": "Contents",
   "toc_cell": false,
   "toc_position": {},
   "toc_section_display": true,
   "toc_window_display": false
  },
  "varInspector": {
   "cols": {
    "lenName": 16,
    "lenType": 16,
    "lenVar": 40
   },
   "kernels_config": {
    "python": {
     "delete_cmd_postfix": "",
     "delete_cmd_prefix": "del ",
     "library": "var_list.py",
     "varRefreshCmd": "print(var_dic_list())"
    },
    "r": {
     "delete_cmd_postfix": ") ",
     "delete_cmd_prefix": "rm(",
     "library": "var_list.r",
     "varRefreshCmd": "cat(var_dic_list()) "
    }
   },
   "types_to_exclude": [
    "module",
    "function",
    "builtin_function_or_method",
    "instance",
    "_Feature"
   ],
   "window_display": false
  }
 },
 "nbformat": 4,
 "nbformat_minor": 5
}
